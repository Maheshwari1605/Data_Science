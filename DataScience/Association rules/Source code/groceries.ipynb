{
 "cells": [
  {
   "cell_type": "code",
   "execution_count": 1,
   "metadata": {},
   "outputs": [],
   "source": [
    "import pandas as pd\n",
    "from mlxtend.frequent_patterns import apriori,association_rules\n",
    "groceries = []\n",
    "# As the file is in transaction data we will be reading data directly \n",
    "with open(\"../Association rules/groceries.csv\") as f:\n",
    "    groceries = f.read()\n"
   ]
  },
  {
   "cell_type": "code",
   "execution_count": 2,
   "metadata": {},
   "outputs": [],
   "source": [
    "groceries = groceries.split(\"\\n\")\n",
    "groceries_list = []\n",
    "for i in groceries:\n",
    "    groceries_list.append(i.split(\",\"))"
   ]
  },
  {
   "cell_type": "code",
   "execution_count": 8,
   "metadata": {},
   "outputs": [
    {
     "name": "stdout",
     "output_type": "stream",
     "text": [
      "[('baby food', 1), ('sound storage medium', 1), ('', 1), ('preservation products', 2), ('bags', 4), ('kitchen utensil', 4), ('baby cosmetics', 6), ('frozen chicken', 6), ('toilet cleaner', 7), ('make up remover', 8), ('salad dressing', 8), ('whisky', 8), ('liqueur', 9), ('rubbing alcohol', 10), ('hair spray', 11), ('frozen fruits', 12), ('cream', 13), ('honey', 15), ('decalcifier', 15), ('organic products', 16), ('specialty vegetables', 17), ('ready soups', 18), ('flower soil/fertilizer', 19), ('prosecco', 20), ('cocoa drinks', 22), ('organic sausage', 22), ('pudding powder', 23), ('tidbits', 23), ('cooking chocolate', 25), ('soap', 26), ('bathroom cleaner', 27), ('cookware', 27), ('potato products', 28), ('fish', 29), ('snack products', 30), ('nut snack', 31), ('artif. sweetener', 32), ('canned fruit', 32), ('syrup', 32), ('nuts/prunes', 33), ('abrasive cleaner', 35), ('skin care', 35), ('specialty fat', 36), ('tea', 38), ('brandy', 41), ('light bulbs', 41), ('meat spreads', 42), ('ketchup', 42), ('rum', 44), ('male cosmetics', 45), ('curd cheese', 50), ('cleaner', 50), ('liver loaf', 50), ('spices', 51), ('jam', 53), ('softener', 54), ('sauces', 54), ('sparkling wine', 55), ('cereals', 56), ('dental care', 57), ('kitchen towels', 59), ('female sanitary products', 60), ('finished products', 64), ('vinegar', 64), ('soups', 67), ('zwieback', 68), ('popcorn', 71), ('instant coffee', 73), ('rice', 75), ('liquor (appetizer)', 78), ('Instant food products', 79), ('turkey', 80), ('house keeping products', 82), ('frozen potato products', 83), ('specialty cheese', 84), ('dog food', 84), ('candles', 88), ('sweet spreads', 89), ('chocolate marshmallow', 89), ('mayonnaise', 90), ('photo/film', 91), ('pet care', 93), ('condensed milk', 101), ('roll products ', 101), ('flower (seeds)', 102), ('dish cleaner', 103), ('frozen dessert', 106), ('salt', 106), ('canned vegetables', 106), ('liquor', 109), ('spread cheese', 110), ('cling film/bags', 112), ('frozen fish', 115), ('mustard', 118), ('packaged fruit/vegetables', 128), ('cake bar', 130), ('seasonal products', 140), ('canned fish', 148), ('pasta', 148), ('herbs', 160), ('processed cheese', 163), ('soft cheese', 168), ('pot plants', 170), ('flour', 171), ('dishes', 173), ('semi-finished bread', 174), ('baking powder', 174), ('pickled vegetables', 176), ('white wine', 187), ('detergent', 189), ('red/blush wine', 189), ('chewing gum', 207), ('grapes', 220), ('cat food', 229), ('hard cheese', 241), ('sliced cheese', 241), ('ice cream', 246), ('meat', 254), ('beverages', 256), ('ham', 256), ('specialty bar', 269), ('butter milk', 275), ('oil', 276), ('misc. beverages', 279), ('frozen meals', 279), ('candy', 294), ('specialty chocolate', 299), ('onions', 305), ('hygiene articles', 324), ('hamburger meat', 327), ('berries', 327), ('UHT-milk', 329), ('sugar', 333), ('dessert', 365), ('long life bakery product', 368), ('salty snack', 372), ('waffles', 378), ('cream cheese ', 390), ('white bread', 414), ('chicken', 422), ('frozen vegetables', 473), ('chocolate', 488), ('napkins', 515), ('beef', 516), ('curd', 524), ('butter', 545), ('pork', 567), ('coffee', 571), ('margarine', 576), ('frankfurter', 580), ('domestic eggs', 624), ('brown bread', 638), ('whipped/sour cream', 705), ('fruit/vegetable juice', 711), ('pip fruit', 744), ('canned beer', 764), ('newspapers', 785), ('bottled beer', 792), ('citrus fruit', 814), ('pastry', 875), ('sausage', 924), ('shopping bags', 969), ('tropical fruit', 1032), ('root vegetables', 1072), ('bottled water', 1087), ('yogurt', 1372), ('soda', 1715), ('rolls/buns', 1809), ('other vegetables', 1903), ('whole milk', 2513)]\n"
     ]
    }
   ],
   "source": [
    "all_groceries_list = [i for item in groceries_list for i in item]\n",
    "from collections import Counter\n",
    "item_frequencies = Counter(all_groceries_list)\n",
    "# after sorting\n",
    "#item_frequencies = sorted(item_frequencies.items(),key = lambda x:x[1])\n",
    "item_frequencies = sorted(item_frequencies.items(),key = lambda x:x[1])\n",
    "print(item_frequencies)"
   ]
  },
  {
   "cell_type": "code",
   "execution_count": 4,
   "metadata": {},
   "outputs": [],
   "source": [
    "frequencies = list(reversed([i[1] for i in item_frequencies]))\n",
    "items = list(reversed([i[0] for i in item_frequencies]))\n"
   ]
  },
  {
   "cell_type": "code",
   "execution_count": 9,
   "metadata": {},
   "outputs": [
    {
     "name": "stderr",
     "output_type": "stream",
     "text": [
      "C:\\Users\\MAHESHWARI\\Anaconda3\\lib\\site-packages\\ipykernel_launcher.py:3: MatplotlibDeprecationWarning: Using a string of single character colors as a color sequence is deprecated. Use an explicit list instead.\n",
      "  This is separate from the ipykernel package so we can avoid doing imports until\n"
     ]
    },
    {
     "data": {
      "text/plain": [
       "Text(0, 0.5, 'Count')"
      ]
     },
     "execution_count": 9,
     "metadata": {},
     "output_type": "execute_result"
    },
    {
     "data": {
      "image/png": "[encoded data removed]",
      "text/plain": [
       "<Figure size 432x288 with 1 Axes>"
      ]
     },
     "metadata": {
      "needs_background": "light"
     },
     "output_type": "display_data"
    }
   ],
   "source": [
    "import matplotlib.pyplot as plt\n",
    "\n",
    "plt.bar(height = frequencies[0:11],x = list(range(0,11)),color='rgbkymc')\n",
    "plt.xticks(list(range(0,11),),items[0:11])\n",
    "plt.xlabel(\"items\")\n",
    "plt.ylabel(\"Count\")"
   ]
  },
  {
   "cell_type": "code",
   "execution_count": 12,
   "metadata": {},
   "outputs": [],
   "source": [
    "# Purpose of converting all list into Series object Coz to treat each list element as entire element not to separate \n",
    "groceries_series  = pd.DataFrame(pd.Series(groceries_list))\n",
    "groceries_series = groceries_series.iloc[:9835,:] # removing the last empty transaction\n",
    "\n",
    "groceries_series.columns = [\"transactions\"]\n"
   ]
  },
  {
   "cell_type": "code",
   "execution_count": 14,
   "metadata": {},
   "outputs": [
    {
     "name": "stderr",
     "output_type": "stream",
     "text": [
      "C:\\Users\\MAHESHWARI\\Anaconda3\\lib\\site-packages\\ipykernel_launcher.py:7: MatplotlibDeprecationWarning: Using a string of single character colors as a color sequence is deprecated. Use an explicit list instead.\n",
      "  import sys\n"
     ]
    },
    {
     "data": {
      "image/png": "[encoded data removed]",
      "text/plain": [
       "<Figure size 432x288 with 1 Axes>"
      ]
     },
     "metadata": {
      "needs_background": "light"
     },
     "output_type": "display_data"
    }
   ],
   "source": [
    "X = groceries_series['transactions'].str.join(sep='*').str.get_dummies(sep='*')\n",
    "\n",
    "frequent_itemsets = apriori(X, min_support=0.005, max_len=3,use_colnames = True)\n",
    "\n",
    "# Most Frequent item sets based on support \n",
    "frequent_itemsets.sort_values('support',ascending = False,inplace=True)\n",
    "plt.bar(x = list(range(1,11)),height = frequent_itemsets.support[1:11],color='rgmyk');\n",
    "plt.xticks(list(range(1,11)),frequent_itemsets.itemsets[1:11])\n",
    "plt.xlabel('item-sets');plt.ylabel('support')\n",
    "\n",
    "rules = association_rules(frequent_itemsets, metric=\"lift\", min_threshold=1)\n",
    "rules.head(20)\n",
    "rules.sort_values('lift',ascending = False,inplace=True)\n"
   ]
  },
  {
   "cell_type": "code",
   "execution_count": 16,
   "metadata": {},
   "outputs": [],
   "source": [
    "def to_list(i):\n",
    "    return (sorted(list(i)))\n",
    "\n",
    "\n",
    "ma_X = rules.antecedents.apply(to_list)+rules.consequents.apply(to_list)\n",
    "ma_X = ma_X.apply(sorted)\n",
    "rules_sets = list(ma_X)\n",
    "unique_rules_sets = [list(m) for m in set(tuple(i) for i in rules_sets)]\n",
    "index_rules = []\n",
    "for i in unique_rules_sets:\n",
    "    index_rules.append(rules_sets.index(i))"
   ]
  },
  {
   "cell_type": "code",
   "execution_count": 17,
   "metadata": {},
   "outputs": [],
   "source": [
    "rules_no_redudancy  = rules.iloc[index_rules,:]"
   ]
  },
  {
   "cell_type": "code",
   "execution_count": 18,
   "metadata": {},
   "outputs": [
    {
     "data": {
      "text/html": [
       "<div>\n",
       "<style scoped>\n",
       "    .dataframe tbody tr th:only-of-type {\n",
       "        vertical-align: middle;\n",
       "    }\n",
       "\n",
       "    .dataframe tbody tr th {\n",
       "        vertical-align: top;\n",
       "    }\n",
       "\n",
       "    .dataframe thead th {\n",
       "        text-align: right;\n",
       "    }\n",
       "</style>\n",
       "<table border=\"1\" class=\"dataframe\">\n",
       "  <thead>\n",
       "    <tr style=\"text-align: right;\">\n",
       "      <th></th>\n",
       "      <th>antecedents</th>\n",
       "      <th>consequents</th>\n",
       "      <th>antecedent support</th>\n",
       "      <th>consequent support</th>\n",
       "      <th>support</th>\n",
       "      <th>confidence</th>\n",
       "      <th>lift</th>\n",
       "      <th>leverage</th>\n",
       "      <th>conviction</th>\n",
       "    </tr>\n",
       "  </thead>\n",
       "  <tbody>\n",
       "    <tr>\n",
       "      <td>2558</td>\n",
       "      <td>(ham)</td>\n",
       "      <td>(white bread)</td>\n",
       "      <td>0.026029</td>\n",
       "      <td>0.042095</td>\n",
       "      <td>0.005084</td>\n",
       "      <td>0.195312</td>\n",
       "      <td>4.639851</td>\n",
       "      <td>0.003988</td>\n",
       "      <td>1.190407</td>\n",
       "    </tr>\n",
       "    <tr>\n",
       "      <td>2022</td>\n",
       "      <td>(whipped/sour cream)</td>\n",
       "      <td>(butter, other vegetables)</td>\n",
       "      <td>0.071683</td>\n",
       "      <td>0.020031</td>\n",
       "      <td>0.005796</td>\n",
       "      <td>0.080851</td>\n",
       "      <td>4.036397</td>\n",
       "      <td>0.004360</td>\n",
       "      <td>1.066171</td>\n",
       "    </tr>\n",
       "    <tr>\n",
       "      <td>1313</td>\n",
       "      <td>(root vegetables)</td>\n",
       "      <td>(herbs)</td>\n",
       "      <td>0.108998</td>\n",
       "      <td>0.016268</td>\n",
       "      <td>0.007016</td>\n",
       "      <td>0.064366</td>\n",
       "      <td>3.956477</td>\n",
       "      <td>0.005243</td>\n",
       "      <td>1.051406</td>\n",
       "    </tr>\n",
       "    <tr>\n",
       "      <td>2042</td>\n",
       "      <td>(other vegetables, root vegetables)</td>\n",
       "      <td>(onions)</td>\n",
       "      <td>0.047382</td>\n",
       "      <td>0.031012</td>\n",
       "      <td>0.005694</td>\n",
       "      <td>0.120172</td>\n",
       "      <td>3.875044</td>\n",
       "      <td>0.004225</td>\n",
       "      <td>1.101338</td>\n",
       "    </tr>\n",
       "    <tr>\n",
       "      <td>2203</td>\n",
       "      <td>(citrus fruit, pip fruit)</td>\n",
       "      <td>(tropical fruit)</td>\n",
       "      <td>0.013828</td>\n",
       "      <td>0.104931</td>\n",
       "      <td>0.005592</td>\n",
       "      <td>0.404412</td>\n",
       "      <td>3.854060</td>\n",
       "      <td>0.004141</td>\n",
       "      <td>1.502831</td>\n",
       "    </tr>\n",
       "    <tr>\n",
       "      <td>777</td>\n",
       "      <td>(berries)</td>\n",
       "      <td>(whipped/sour cream)</td>\n",
       "      <td>0.033249</td>\n",
       "      <td>0.071683</td>\n",
       "      <td>0.009049</td>\n",
       "      <td>0.272171</td>\n",
       "      <td>3.796886</td>\n",
       "      <td>0.006666</td>\n",
       "      <td>1.275461</td>\n",
       "    </tr>\n",
       "    <tr>\n",
       "      <td>1469</td>\n",
       "      <td>(whole milk, whipped/sour cream)</td>\n",
       "      <td>(butter)</td>\n",
       "      <td>0.032232</td>\n",
       "      <td>0.055414</td>\n",
       "      <td>0.006711</td>\n",
       "      <td>0.208202</td>\n",
       "      <td>3.757185</td>\n",
       "      <td>0.004925</td>\n",
       "      <td>1.192963</td>\n",
       "    </tr>\n",
       "    <tr>\n",
       "      <td>2436</td>\n",
       "      <td>(yogurt)</td>\n",
       "      <td>(tropical fruit, curd)</td>\n",
       "      <td>0.139502</td>\n",
       "      <td>0.010269</td>\n",
       "      <td>0.005287</td>\n",
       "      <td>0.037901</td>\n",
       "      <td>3.690645</td>\n",
       "      <td>0.003855</td>\n",
       "      <td>1.028720</td>\n",
       "    </tr>\n",
       "    <tr>\n",
       "      <td>1043</td>\n",
       "      <td>(root vegetables)</td>\n",
       "      <td>(beef, other vegetables)</td>\n",
       "      <td>0.108998</td>\n",
       "      <td>0.019725</td>\n",
       "      <td>0.007931</td>\n",
       "      <td>0.072761</td>\n",
       "      <td>3.688692</td>\n",
       "      <td>0.005781</td>\n",
       "      <td>1.057197</td>\n",
       "    </tr>\n",
       "    <tr>\n",
       "      <td>1871</td>\n",
       "      <td>(whole milk, domestic eggs)</td>\n",
       "      <td>(butter)</td>\n",
       "      <td>0.029995</td>\n",
       "      <td>0.055414</td>\n",
       "      <td>0.005999</td>\n",
       "      <td>0.200000</td>\n",
       "      <td>3.609174</td>\n",
       "      <td>0.004337</td>\n",
       "      <td>1.180732</td>\n",
       "    </tr>\n",
       "  </tbody>\n",
       "</table>\n",
       "</div>"
      ],
      "text/plain": [
       "                              antecedents                 consequents  \\\n",
       "2558                                (ham)               (white bread)   \n",
       "2022                 (whipped/sour cream)  (butter, other vegetables)   \n",
       "1313                    (root vegetables)                     (herbs)   \n",
       "2042  (other vegetables, root vegetables)                    (onions)   \n",
       "2203            (citrus fruit, pip fruit)            (tropical fruit)   \n",
       "777                             (berries)        (whipped/sour cream)   \n",
       "1469     (whole milk, whipped/sour cream)                    (butter)   \n",
       "2436                             (yogurt)      (tropical fruit, curd)   \n",
       "1043                    (root vegetables)    (beef, other vegetables)   \n",
       "1871          (whole milk, domestic eggs)                    (butter)   \n",
       "\n",
       "      antecedent support  consequent support   support  confidence      lift  \\\n",
       "2558            0.026029            0.042095  0.005084    0.195312  4.639851   \n",
       "2022            0.071683            0.020031  0.005796    0.080851  4.036397   \n",
       "1313            0.108998            0.016268  0.007016    0.064366  3.956477   \n",
       "2042            0.047382            0.031012  0.005694    0.120172  3.875044   \n",
       "2203            0.013828            0.104931  0.005592    0.404412  3.854060   \n",
       "777             0.033249            0.071683  0.009049    0.272171  3.796886   \n",
       "1469            0.032232            0.055414  0.006711    0.208202  3.757185   \n",
       "2436            0.139502            0.010269  0.005287    0.037901  3.690645   \n",
       "1043            0.108998            0.019725  0.007931    0.072761  3.688692   \n",
       "1871            0.029995            0.055414  0.005999    0.200000  3.609174   \n",
       "\n",
       "      leverage  conviction  \n",
       "2558  0.003988    1.190407  \n",
       "2022  0.004360    1.066171  \n",
       "1313  0.005243    1.051406  \n",
       "2042  0.004225    1.101338  \n",
       "2203  0.004141    1.502831  \n",
       "777   0.006666    1.275461  \n",
       "1469  0.004925    1.192963  \n",
       "2436  0.003855    1.028720  \n",
       "1043  0.005781    1.057197  \n",
       "1871  0.004337    1.180732  "
      ]
     },
     "execution_count": 18,
     "metadata": {},
     "output_type": "execute_result"
    }
   ],
   "source": [
    "rules_no_redudancy.sort_values('lift',ascending=False).head(10)"
   ]
  },
  {
   "cell_type": "code",
   "execution_count": null,
   "metadata": {},
   "outputs": [],
   "source": []
  }
 ],
 "metadata": {
  "kernelspec": {
   "display_name": "Python 3",
   "language": "python",
   "name": "python3"
  },
  "language_info": {
   "codemirror_mode": {
    "name": "ipython",
    "version": 3
   },
   "file_extension": ".py",
   "mimetype": "text/x-python",
   "name": "python",
   "nbconvert_exporter": "python",
   "pygments_lexer": "ipython3",
   "version": "3.7.4"
  }
 },
 "nbformat": 4,
 "nbformat_minor": 2
}
